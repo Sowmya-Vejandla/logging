{
 "cells": [
  {
   "cell_type": "code",
   "execution_count": 2,
   "id": "a0d968a1",
   "metadata": {},
   "outputs": [
    {
     "name": "stdout",
     "output_type": "stream",
     "text": [
      "Result: 2.0\n"
     ]
    }
   ],
   "source": [
    "1.\n",
    "\n",
    "\"\"\"In a try-except statement in Python, the else block is optional and is executed only if no exceptions are raised in the corresponding try block.\n",
    "Its purpose is to contain code that should be executed if the code in the try block runs successfully without any exceptions.\"\"\"\n",
    "\n",
    "try:\n",
    "    result = 10 / 5\n",
    "except ZeroDivisionError:\n",
    "    print(\"Cannot divide by zero!\")\n",
    "else:\n",
    "    print(\"Result:\", result)"
   ]
  },
  {
   "cell_type": "code",
   "execution_count": 4,
   "id": "ea8c9ef1",
   "metadata": {},
   "outputs": [
    {
     "name": "stdout",
     "output_type": "stream",
     "text": [
      "Result: 5.0\n",
      "Result: 2.5\n"
     ]
    }
   ],
   "source": [
    "2.\n",
    "\n",
    "\"\"\"Yes, a try-except block can be nested inside another try-except block.\"\"\"\n",
    "\n",
    "def handling(x, y, z):\n",
    "    try:\n",
    "        result = x / y\n",
    "        print(\"Result:\", result)\n",
    "\n",
    "        try:\n",
    "            result = result / z\n",
    "            print(\"Result:\", result)\n",
    "        except ZeroDivisionError:\n",
    "            print(\"Denominator should not be zero\")\n",
    "\n",
    "    except ZeroDivisionError:\n",
    "        print(\"Cannot divide by zero\")\n",
    "\n",
    "handling(10, 2, 2)\n"
   ]
  },
  {
   "cell_type": "code",
   "execution_count": 6,
   "id": "d29e0d78",
   "metadata": {},
   "outputs": [
    {
     "name": "stdout",
     "output_type": "stream",
     "text": [
      "Input is valid: 5\n"
     ]
    }
   ],
   "source": [
    "3.\n",
    "\n",
    "\"\"\"\n",
    "Custom exception classes in Python can be made by declaring a new class that extends either the built-in Exception class or one of its subclasses.\n",
    "You can raise and catch specific exceptions that make sense for your application's context by using custom exception classes. \"\"\"\n",
    "\n",
    "class CustomError(Exception):\n",
    "    def __init__(self, message=\"A custom error occurred.\"):\n",
    "        self.message = message\n",
    "        super().__init__(self.message)\n",
    "\n",
    "def custom_exception(x):\n",
    "    try:\n",
    "        if x < 0:\n",
    "            raise CustomError(\"Input should be a positive.\")\n",
    "        else:\n",
    "            print(\"Input is valid:\", x)\n",
    "    except CustomError as c:\n",
    "        print(f\"custom exception: {c}\")\n",
    "\n",
    "\n",
    " \n",
    "custom_exception(5)  \n"
   ]
  },
  {
   "cell_type": "raw",
   "id": "d0423630",
   "metadata": {},
   "source": [
    "4. The common exceptions that are built-in to python are:\n",
    "\n",
    "(i) Syntax error\n",
    "(ii) Value error\n",
    "(iii) Type error\n",
    "(iv) Zero Division error\n",
    "(v) File not found error\n",
    "(vi) Intendation error\n",
    "(vii) Name error"
   ]
  },
  {
   "cell_type": "raw",
   "id": "d14c1ce1",
   "metadata": {},
   "source": [
    "5.\n",
    "\n",
    "Logging in Python refers to the process of recording messages that provide information about the program's execution. The built-in logging module in Python allows developers to incorporate flexible logging capabilities into their applications. \n",
    "\n",
    "It is crucial in software development for several reasons.\n",
    "(1) Debugging and troubleshooting\n",
    "(2) Monitoring and Auditing\n",
    "(3) Error Reporting\n",
    "(4) Secority\n",
    "(5) Performance Analysis\n",
    "(6) Configuration and Deployment\n",
    "(7) Communication and collaboration\n",
    "\n"
   ]
  },
  {
   "cell_type": "raw",
   "id": "825f789d",
   "metadata": {},
   "source": [
    "6. In Python logging, log levels are used to categorize and prioritize log messages based on their severity. \n",
    "\n",
    "(i)DEBUG: Detailed information, typically useful for diagnosing problems during development. Debug messages are not typically used in production but can be valuable during debugging.\n",
    "    \n",
    "(ii)INFO: General information about the program's execution. Info messages are used to track the flow of the program and provide high-level details about its operation.\n",
    "    \n",
    "(iii)WARNING: Indicates a potential issue or situation that may require attention. Warning messages are often used to highlight non-critical problems or unexpected conditions.\n",
    "    \n",
    "(iv)ERROR: Indicates a more severe issue that prevented a part of the program from functioning correctly. Error messages are used to report errors that should be addressed but may not necessarily result in the termination of the entire program.\n",
    "    \n",
    "(v)CRITICAL: Indicates a critical error that usually leads to the termination of the program. Critical messages are used to highlight severe failures that require immediate attention."
   ]
  },
  {
   "cell_type": "raw",
   "id": "0478f8c7",
   "metadata": {},
   "source": [
    "7. Log formatters in Python logging are responsible for specifying the layout and structure of log messages. They define how the information logged by the logging module should be presented in the log records.\n",
    "\n",
    "The logging module provides a Formatter class that serves as the base class for formatting log records. When configuring a logging handler (such as a StreamHandler or FileHandler), you can specify a formatter to define the structure of the log messages.\n",
    "\n",
    "You can customize the format by adding or removing elements based on your requirements. \n",
    "\n"
   ]
  },
  {
   "cell_type": "raw",
   "id": "f6bd29e7",
   "metadata": {},
   "source": [
    "8. \n",
    "\n",
    "Create a Logger Instance:\n",
    "Create a logger instance using the logging.getLogger(name) method, where name is a string identifier for the logger. Using the same name across different modules or classes allows them to share the same logger.\n",
    "\n",
    "Configure Handlers and Formatters:\n",
    "Configure logging handlers (e.g., StreamHandler, FileHandler) and formatters for the logger. Handlers determine where the log messages should be sent (e.g., console, file), and formatters define the format of the log messages.\n",
    "\n",
    "Add Handlers to the Logger:\n",
    "Add the configured handlers to the logger instance. This ensures that log messages are processed by the specified handlers."
   ]
  },
  {
   "cell_type": "raw",
   "id": "104b5ea2",
   "metadata": {},
   "source": [
    "9.\n",
    "\n",
    "Both logging and print statements in Python are used for producing output, but they serve different purposes and have distinct features.\n",
    "\n",
    "Print Statements:\n",
    "Not easily integratable with third-party logging solutions. Primarily used for simple debugging and displaying information during development. Prints go to the standard output (usually the console). Output goes to the console by default, and it is generally intended for developers to see while working on the code.\n",
    "\n",
    "Logging:\n",
    "Integrates well with various logging frameworks and services. Designed for more sophisticated logging, offering a structured way to capture and manage information, warnings, errors, and other messages. Output can be directed to different destinations, such as log files, the console, or even remote servers. This flexibility is useful for both development and production environments.\n",
    "\n",
    "In a real-world application, logging is generally preferred over print statements for Structured Logging, Flexibility, Production Readiness, Debugging and Maintenance"
   ]
  },
  {
   "cell_type": "code",
   "execution_count": 9,
   "id": "5663f0b1",
   "metadata": {},
   "outputs": [],
   "source": [
    "#10.\n",
    "\n",
    "import logging\n",
    "\n",
    "\n",
    "logging.basicConfig(\n",
    "    filename='app.log',\n",
    "    level=logging.INFO,\n",
    "    format='%(asctime)s - %(levelname)s - %(message)s',\n",
    "    filemode='a')                 \n",
    "\n",
    "\n",
    "logging.info(\"Hello, World!\")\n"
   ]
  },
  {
   "cell_type": "code",
   "execution_count": 10,
   "id": "c3f5d6f5",
   "metadata": {},
   "outputs": [
    {
     "name": "stderr",
     "output_type": "stream",
     "text": [
      "Traceback (most recent call last):\n",
      "  File \"C:\\Users\\sowmy\\AppData\\Local\\Temp\\ipykernel_3424\\2973404520.py\", line 21, in main\n",
      "    result = 10 / 0\n",
      "            ~~~^~~\n",
      "ZeroDivisionError: division by zero\n"
     ]
    }
   ],
   "source": [
    "#11.\n",
    "\n",
    "import logging\n",
    "import sys\n",
    "import traceback\n",
    "from datetime import datetime\n",
    "\n",
    "logging.basicConfig(\n",
    "    level=logging.ERROR,          \n",
    "    format='%(asctime)s - %(levelname)s - %(message)s',\n",
    ")\n",
    "\n",
    "file_handler = logging.FileHandler('errors.log', mode='a')\n",
    "file_handler.setLevel(logging.ERROR)\n",
    "file_formatter = logging.Formatter('%(asctime)s - %(levelname)s - %(message)s')\n",
    "file_handler.setFormatter(file_formatter)\n",
    "logging.getLogger().addHandler(file_handler)\n",
    "\n",
    "def main():\n",
    "    try:\n",
    "        result = 10 / 0 \n",
    "    except Exception as e:\n",
    "        error_msg = f\"Exception type: {type(e).__name__}, Timestamp: {datetime.now()}\"\n",
    "        logging.error(error_msg)\n",
    "# Print the exception traceback to the console\n",
    "        traceback.print_exc()\n",
    "\n",
    "if __name__ == \"__main__\":\n",
    "    main()\n"
   ]
  }
 ],
 "metadata": {
  "kernelspec": {
   "display_name": "Python 3 (ipykernel)",
   "language": "python",
   "name": "python3"
  },
  "language_info": {
   "codemirror_mode": {
    "name": "ipython",
    "version": 3
   },
   "file_extension": ".py",
   "mimetype": "text/x-python",
   "name": "python",
   "nbconvert_exporter": "python",
   "pygments_lexer": "ipython3",
   "version": "3.11.3"
  }
 },
 "nbformat": 4,
 "nbformat_minor": 5
}
